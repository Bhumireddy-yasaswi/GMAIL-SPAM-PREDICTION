{
  "nbformat": 4,
  "nbformat_minor": 0,
  "metadata": {
    "kernelspec": {
      "display_name": "Python 3",
      "language": "python",
      "name": "python3"
    },
    "language_info": {
      "codemirror_mode": {
        "name": "ipython",
        "version": 3
      },
      "file_extension": ".py",
      "mimetype": "text/x-python",
      "name": "python",
      "nbconvert_exporter": "python",
      "pygments_lexer": "ipython3",
      "version": "3.7.6"
    },
    "colab": {
      "name": "gmailspamdetection.ipynb",
      "provenance": [],
      "collapsed_sections": [
        "sD-PmjODe9cS"
      ]
    }
  },
  "cells": [
    {
      "cell_type": "markdown",
      "metadata": {
        "id": "fittgSCIxyse"
      },
      "source": [
        " **GMAIL SPAM DETECTION WITH NATURAL LANGUAGE PROCESSING**"
      ]
    },
    {
      "cell_type": "code",
      "metadata": {
        "colab": {
          "base_uri": "https://localhost:8080/"
        },
        "id": "UIiERvVWe9b9",
        "outputId": "898f4e76-bad3-4149-e7a0-ff3b7a59c990"
      },
      "source": [
        "import nltk\n",
        "nltk.download('wordnet')\n",
        "nltk.download('stopwords')"
      ],
      "execution_count": 44,
      "outputs": [
        {
          "output_type": "stream",
          "text": [
            "[nltk_data] Downloading package wordnet to /root/nltk_data...\n",
            "[nltk_data]   Package wordnet is already up-to-date!\n",
            "[nltk_data] Downloading package stopwords to /root/nltk_data...\n",
            "[nltk_data]   Package stopwords is already up-to-date!\n"
          ],
          "name": "stdout"
        },
        {
          "output_type": "execute_result",
          "data": {
            "text/plain": [
              "True"
            ]
          },
          "metadata": {
            "tags": []
          },
          "execution_count": 44
        }
      ]
    },
    {
      "cell_type": "code",
      "metadata": {
        "id": "gV_xjh3se9cE"
      },
      "source": [
        "\n",
        "import pandas as pd\n",
        "import numpy as np\n",
        "import seaborn as sns\n",
        "import matplotlib.pyplot as plt"
      ],
      "execution_count": 45,
      "outputs": []
    },
    {
      "cell_type": "code",
      "metadata": {
        "colab": {
          "base_uri": "https://localhost:8080/"
        },
        "id": "jgDQU-TQfRTZ",
        "outputId": "4e311a47-ccba-4947-ea2c-198481e02590"
      },
      "source": [
        "from google.colab import drive\n",
        "drive.mount('/content/drive')"
      ],
      "execution_count": 46,
      "outputs": [
        {
          "output_type": "stream",
          "text": [
            "Drive already mounted at /content/drive; to attempt to forcibly remount, call drive.mount(\"/content/drive\", force_remount=True).\n"
          ],
          "name": "stdout"
        }
      ]
    },
    {
      "cell_type": "code",
      "metadata": {
        "colab": {
          "base_uri": "https://localhost:8080/",
          "height": 627
        },
        "id": "cUqGsXV3e9cF",
        "outputId": "576774e1-f4e2-4889-eee0-4a1ef1056675"
      },
      "source": [
        "email=pd.read_csv(\"/content/drive/MyDrive/spamham.csv\")\n",
        "email.head()"
      ],
      "execution_count": 47,
      "outputs": [
        {
          "output_type": "execute_result",
          "data": {
            "text/html": [
              "<div>\n",
              "<style scoped>\n",
              "    .dataframe tbody tr th:only-of-type {\n",
              "        vertical-align: middle;\n",
              "    }\n",
              "\n",
              "    .dataframe tbody tr th {\n",
              "        vertical-align: top;\n",
              "    }\n",
              "\n",
              "    .dataframe thead th {\n",
              "        text-align: right;\n",
              "    }\n",
              "</style>\n",
              "<table border=\"1\" class=\"dataframe\">\n",
              "  <thead>\n",
              "    <tr style=\"text-align: right;\">\n",
              "      <th></th>\n",
              "      <th>text</th>\n",
              "      <th>spam</th>\n",
              "      <th>Unnamed: 2</th>\n",
              "      <th>Unnamed: 3</th>\n",
              "      <th>Unnamed: 4</th>\n",
              "      <th>Unnamed: 5</th>\n",
              "      <th>Unnamed: 6</th>\n",
              "      <th>Unnamed: 7</th>\n",
              "      <th>Unnamed: 8</th>\n",
              "      <th>Unnamed: 9</th>\n",
              "      <th>Unnamed: 10</th>\n",
              "      <th>Unnamed: 11</th>\n",
              "      <th>Unnamed: 12</th>\n",
              "      <th>Unnamed: 13</th>\n",
              "      <th>Unnamed: 14</th>\n",
              "      <th>Unnamed: 15</th>\n",
              "      <th>Unnamed: 16</th>\n",
              "      <th>Unnamed: 17</th>\n",
              "      <th>Unnamed: 18</th>\n",
              "      <th>Unnamed: 19</th>\n",
              "      <th>Unnamed: 20</th>\n",
              "      <th>Unnamed: 21</th>\n",
              "      <th>Unnamed: 22</th>\n",
              "      <th>Unnamed: 23</th>\n",
              "      <th>Unnamed: 24</th>\n",
              "      <th>Unnamed: 25</th>\n",
              "      <th>Unnamed: 26</th>\n",
              "      <th>Unnamed: 27</th>\n",
              "      <th>Unnamed: 28</th>\n",
              "      <th>Unnamed: 29</th>\n",
              "      <th>Unnamed: 30</th>\n",
              "      <th>Unnamed: 31</th>\n",
              "      <th>Unnamed: 32</th>\n",
              "      <th>Unnamed: 33</th>\n",
              "      <th>Unnamed: 34</th>\n",
              "      <th>Unnamed: 35</th>\n",
              "      <th>Unnamed: 36</th>\n",
              "      <th>Unnamed: 37</th>\n",
              "      <th>Unnamed: 38</th>\n",
              "      <th>Unnamed: 39</th>\n",
              "      <th>...</th>\n",
              "      <th>Unnamed: 70</th>\n",
              "      <th>Unnamed: 71</th>\n",
              "      <th>Unnamed: 72</th>\n",
              "      <th>Unnamed: 73</th>\n",
              "      <th>Unnamed: 74</th>\n",
              "      <th>Unnamed: 75</th>\n",
              "      <th>Unnamed: 76</th>\n",
              "      <th>Unnamed: 77</th>\n",
              "      <th>Unnamed: 78</th>\n",
              "      <th>Unnamed: 79</th>\n",
              "      <th>Unnamed: 80</th>\n",
              "      <th>Unnamed: 81</th>\n",
              "      <th>Unnamed: 82</th>\n",
              "      <th>Unnamed: 83</th>\n",
              "      <th>Unnamed: 84</th>\n",
              "      <th>Unnamed: 85</th>\n",
              "      <th>Unnamed: 86</th>\n",
              "      <th>Unnamed: 87</th>\n",
              "      <th>Unnamed: 88</th>\n",
              "      <th>Unnamed: 89</th>\n",
              "      <th>Unnamed: 90</th>\n",
              "      <th>Unnamed: 91</th>\n",
              "      <th>Unnamed: 92</th>\n",
              "      <th>Unnamed: 93</th>\n",
              "      <th>Unnamed: 94</th>\n",
              "      <th>Unnamed: 95</th>\n",
              "      <th>Unnamed: 96</th>\n",
              "      <th>Unnamed: 97</th>\n",
              "      <th>Unnamed: 98</th>\n",
              "      <th>Unnamed: 99</th>\n",
              "      <th>Unnamed: 100</th>\n",
              "      <th>Unnamed: 101</th>\n",
              "      <th>Unnamed: 102</th>\n",
              "      <th>Unnamed: 103</th>\n",
              "      <th>Unnamed: 104</th>\n",
              "      <th>Unnamed: 105</th>\n",
              "      <th>Unnamed: 106</th>\n",
              "      <th>Unnamed: 107</th>\n",
              "      <th>Unnamed: 108</th>\n",
              "      <th>Unnamed: 109</th>\n",
              "    </tr>\n",
              "  </thead>\n",
              "  <tbody>\n",
              "    <tr>\n",
              "      <th>0</th>\n",
              "      <td>Subject: naturally irresistible your corporate...</td>\n",
              "      <td>1</td>\n",
              "      <td>NaN</td>\n",
              "      <td>NaN</td>\n",
              "      <td>NaN</td>\n",
              "      <td>NaN</td>\n",
              "      <td>NaN</td>\n",
              "      <td>NaN</td>\n",
              "      <td>NaN</td>\n",
              "      <td>NaN</td>\n",
              "      <td>NaN</td>\n",
              "      <td>NaN</td>\n",
              "      <td>NaN</td>\n",
              "      <td>NaN</td>\n",
              "      <td>NaN</td>\n",
              "      <td>NaN</td>\n",
              "      <td>NaN</td>\n",
              "      <td>NaN</td>\n",
              "      <td>NaN</td>\n",
              "      <td>NaN</td>\n",
              "      <td>NaN</td>\n",
              "      <td>NaN</td>\n",
              "      <td>NaN</td>\n",
              "      <td>NaN</td>\n",
              "      <td>NaN</td>\n",
              "      <td>NaN</td>\n",
              "      <td>NaN</td>\n",
              "      <td>NaN</td>\n",
              "      <td>NaN</td>\n",
              "      <td>NaN</td>\n",
              "      <td>NaN</td>\n",
              "      <td>NaN</td>\n",
              "      <td>NaN</td>\n",
              "      <td>NaN</td>\n",
              "      <td>NaN</td>\n",
              "      <td>NaN</td>\n",
              "      <td>NaN</td>\n",
              "      <td>NaN</td>\n",
              "      <td>NaN</td>\n",
              "      <td>NaN</td>\n",
              "      <td>...</td>\n",
              "      <td>NaN</td>\n",
              "      <td>NaN</td>\n",
              "      <td>NaN</td>\n",
              "      <td>NaN</td>\n",
              "      <td>NaN</td>\n",
              "      <td>NaN</td>\n",
              "      <td>NaN</td>\n",
              "      <td>NaN</td>\n",
              "      <td>NaN</td>\n",
              "      <td>NaN</td>\n",
              "      <td>NaN</td>\n",
              "      <td>NaN</td>\n",
              "      <td>NaN</td>\n",
              "      <td>NaN</td>\n",
              "      <td>NaN</td>\n",
              "      <td>NaN</td>\n",
              "      <td>NaN</td>\n",
              "      <td>NaN</td>\n",
              "      <td>NaN</td>\n",
              "      <td>NaN</td>\n",
              "      <td>NaN</td>\n",
              "      <td>NaN</td>\n",
              "      <td>NaN</td>\n",
              "      <td>NaN</td>\n",
              "      <td>NaN</td>\n",
              "      <td>NaN</td>\n",
              "      <td>NaN</td>\n",
              "      <td>NaN</td>\n",
              "      <td>NaN</td>\n",
              "      <td>NaN</td>\n",
              "      <td>NaN</td>\n",
              "      <td>NaN</td>\n",
              "      <td>NaN</td>\n",
              "      <td>NaN</td>\n",
              "      <td>NaN</td>\n",
              "      <td>NaN</td>\n",
              "      <td>NaN</td>\n",
              "      <td>NaN</td>\n",
              "      <td>NaN</td>\n",
              "      <td>NaN</td>\n",
              "    </tr>\n",
              "    <tr>\n",
              "      <th>1</th>\n",
              "      <td>Subject: the stock trading gunslinger  fanny i...</td>\n",
              "      <td>1</td>\n",
              "      <td>NaN</td>\n",
              "      <td>NaN</td>\n",
              "      <td>NaN</td>\n",
              "      <td>NaN</td>\n",
              "      <td>NaN</td>\n",
              "      <td>NaN</td>\n",
              "      <td>NaN</td>\n",
              "      <td>NaN</td>\n",
              "      <td>NaN</td>\n",
              "      <td>NaN</td>\n",
              "      <td>NaN</td>\n",
              "      <td>NaN</td>\n",
              "      <td>NaN</td>\n",
              "      <td>NaN</td>\n",
              "      <td>NaN</td>\n",
              "      <td>NaN</td>\n",
              "      <td>NaN</td>\n",
              "      <td>NaN</td>\n",
              "      <td>NaN</td>\n",
              "      <td>NaN</td>\n",
              "      <td>NaN</td>\n",
              "      <td>NaN</td>\n",
              "      <td>NaN</td>\n",
              "      <td>NaN</td>\n",
              "      <td>NaN</td>\n",
              "      <td>NaN</td>\n",
              "      <td>NaN</td>\n",
              "      <td>NaN</td>\n",
              "      <td>NaN</td>\n",
              "      <td>NaN</td>\n",
              "      <td>NaN</td>\n",
              "      <td>NaN</td>\n",
              "      <td>NaN</td>\n",
              "      <td>NaN</td>\n",
              "      <td>NaN</td>\n",
              "      <td>NaN</td>\n",
              "      <td>NaN</td>\n",
              "      <td>NaN</td>\n",
              "      <td>...</td>\n",
              "      <td>NaN</td>\n",
              "      <td>NaN</td>\n",
              "      <td>NaN</td>\n",
              "      <td>NaN</td>\n",
              "      <td>NaN</td>\n",
              "      <td>NaN</td>\n",
              "      <td>NaN</td>\n",
              "      <td>NaN</td>\n",
              "      <td>NaN</td>\n",
              "      <td>NaN</td>\n",
              "      <td>NaN</td>\n",
              "      <td>NaN</td>\n",
              "      <td>NaN</td>\n",
              "      <td>NaN</td>\n",
              "      <td>NaN</td>\n",
              "      <td>NaN</td>\n",
              "      <td>NaN</td>\n",
              "      <td>NaN</td>\n",
              "      <td>NaN</td>\n",
              "      <td>NaN</td>\n",
              "      <td>NaN</td>\n",
              "      <td>NaN</td>\n",
              "      <td>NaN</td>\n",
              "      <td>NaN</td>\n",
              "      <td>NaN</td>\n",
              "      <td>NaN</td>\n",
              "      <td>NaN</td>\n",
              "      <td>NaN</td>\n",
              "      <td>NaN</td>\n",
              "      <td>NaN</td>\n",
              "      <td>NaN</td>\n",
              "      <td>NaN</td>\n",
              "      <td>NaN</td>\n",
              "      <td>NaN</td>\n",
              "      <td>NaN</td>\n",
              "      <td>NaN</td>\n",
              "      <td>NaN</td>\n",
              "      <td>NaN</td>\n",
              "      <td>NaN</td>\n",
              "      <td>NaN</td>\n",
              "    </tr>\n",
              "    <tr>\n",
              "      <th>2</th>\n",
              "      <td>Subject: unbelievable new homes made easy  im ...</td>\n",
              "      <td>1</td>\n",
              "      <td>NaN</td>\n",
              "      <td>NaN</td>\n",
              "      <td>NaN</td>\n",
              "      <td>NaN</td>\n",
              "      <td>NaN</td>\n",
              "      <td>NaN</td>\n",
              "      <td>NaN</td>\n",
              "      <td>NaN</td>\n",
              "      <td>NaN</td>\n",
              "      <td>NaN</td>\n",
              "      <td>NaN</td>\n",
              "      <td>NaN</td>\n",
              "      <td>NaN</td>\n",
              "      <td>NaN</td>\n",
              "      <td>NaN</td>\n",
              "      <td>NaN</td>\n",
              "      <td>NaN</td>\n",
              "      <td>NaN</td>\n",
              "      <td>NaN</td>\n",
              "      <td>NaN</td>\n",
              "      <td>NaN</td>\n",
              "      <td>NaN</td>\n",
              "      <td>NaN</td>\n",
              "      <td>NaN</td>\n",
              "      <td>NaN</td>\n",
              "      <td>NaN</td>\n",
              "      <td>NaN</td>\n",
              "      <td>NaN</td>\n",
              "      <td>NaN</td>\n",
              "      <td>NaN</td>\n",
              "      <td>NaN</td>\n",
              "      <td>NaN</td>\n",
              "      <td>NaN</td>\n",
              "      <td>NaN</td>\n",
              "      <td>NaN</td>\n",
              "      <td>NaN</td>\n",
              "      <td>NaN</td>\n",
              "      <td>NaN</td>\n",
              "      <td>...</td>\n",
              "      <td>NaN</td>\n",
              "      <td>NaN</td>\n",
              "      <td>NaN</td>\n",
              "      <td>NaN</td>\n",
              "      <td>NaN</td>\n",
              "      <td>NaN</td>\n",
              "      <td>NaN</td>\n",
              "      <td>NaN</td>\n",
              "      <td>NaN</td>\n",
              "      <td>NaN</td>\n",
              "      <td>NaN</td>\n",
              "      <td>NaN</td>\n",
              "      <td>NaN</td>\n",
              "      <td>NaN</td>\n",
              "      <td>NaN</td>\n",
              "      <td>NaN</td>\n",
              "      <td>NaN</td>\n",
              "      <td>NaN</td>\n",
              "      <td>NaN</td>\n",
              "      <td>NaN</td>\n",
              "      <td>NaN</td>\n",
              "      <td>NaN</td>\n",
              "      <td>NaN</td>\n",
              "      <td>NaN</td>\n",
              "      <td>NaN</td>\n",
              "      <td>NaN</td>\n",
              "      <td>NaN</td>\n",
              "      <td>NaN</td>\n",
              "      <td>NaN</td>\n",
              "      <td>NaN</td>\n",
              "      <td>NaN</td>\n",
              "      <td>NaN</td>\n",
              "      <td>NaN</td>\n",
              "      <td>NaN</td>\n",
              "      <td>NaN</td>\n",
              "      <td>NaN</td>\n",
              "      <td>NaN</td>\n",
              "      <td>NaN</td>\n",
              "      <td>NaN</td>\n",
              "      <td>NaN</td>\n",
              "    </tr>\n",
              "    <tr>\n",
              "      <th>3</th>\n",
              "      <td>Subject: 4 color printing special  request add...</td>\n",
              "      <td>1</td>\n",
              "      <td>NaN</td>\n",
              "      <td>NaN</td>\n",
              "      <td>NaN</td>\n",
              "      <td>NaN</td>\n",
              "      <td>NaN</td>\n",
              "      <td>NaN</td>\n",
              "      <td>NaN</td>\n",
              "      <td>NaN</td>\n",
              "      <td>NaN</td>\n",
              "      <td>NaN</td>\n",
              "      <td>NaN</td>\n",
              "      <td>NaN</td>\n",
              "      <td>NaN</td>\n",
              "      <td>NaN</td>\n",
              "      <td>NaN</td>\n",
              "      <td>NaN</td>\n",
              "      <td>NaN</td>\n",
              "      <td>NaN</td>\n",
              "      <td>NaN</td>\n",
              "      <td>NaN</td>\n",
              "      <td>NaN</td>\n",
              "      <td>NaN</td>\n",
              "      <td>NaN</td>\n",
              "      <td>NaN</td>\n",
              "      <td>NaN</td>\n",
              "      <td>NaN</td>\n",
              "      <td>NaN</td>\n",
              "      <td>NaN</td>\n",
              "      <td>NaN</td>\n",
              "      <td>NaN</td>\n",
              "      <td>NaN</td>\n",
              "      <td>NaN</td>\n",
              "      <td>NaN</td>\n",
              "      <td>NaN</td>\n",
              "      <td>NaN</td>\n",
              "      <td>NaN</td>\n",
              "      <td>NaN</td>\n",
              "      <td>NaN</td>\n",
              "      <td>...</td>\n",
              "      <td>NaN</td>\n",
              "      <td>NaN</td>\n",
              "      <td>NaN</td>\n",
              "      <td>NaN</td>\n",
              "      <td>NaN</td>\n",
              "      <td>NaN</td>\n",
              "      <td>NaN</td>\n",
              "      <td>NaN</td>\n",
              "      <td>NaN</td>\n",
              "      <td>NaN</td>\n",
              "      <td>NaN</td>\n",
              "      <td>NaN</td>\n",
              "      <td>NaN</td>\n",
              "      <td>NaN</td>\n",
              "      <td>NaN</td>\n",
              "      <td>NaN</td>\n",
              "      <td>NaN</td>\n",
              "      <td>NaN</td>\n",
              "      <td>NaN</td>\n",
              "      <td>NaN</td>\n",
              "      <td>NaN</td>\n",
              "      <td>NaN</td>\n",
              "      <td>NaN</td>\n",
              "      <td>NaN</td>\n",
              "      <td>NaN</td>\n",
              "      <td>NaN</td>\n",
              "      <td>NaN</td>\n",
              "      <td>NaN</td>\n",
              "      <td>NaN</td>\n",
              "      <td>NaN</td>\n",
              "      <td>NaN</td>\n",
              "      <td>NaN</td>\n",
              "      <td>NaN</td>\n",
              "      <td>NaN</td>\n",
              "      <td>NaN</td>\n",
              "      <td>NaN</td>\n",
              "      <td>NaN</td>\n",
              "      <td>NaN</td>\n",
              "      <td>NaN</td>\n",
              "      <td>NaN</td>\n",
              "    </tr>\n",
              "    <tr>\n",
              "      <th>4</th>\n",
              "      <td>Subject: do not have money , get software cds ...</td>\n",
              "      <td>1</td>\n",
              "      <td>NaN</td>\n",
              "      <td>NaN</td>\n",
              "      <td>NaN</td>\n",
              "      <td>NaN</td>\n",
              "      <td>NaN</td>\n",
              "      <td>NaN</td>\n",
              "      <td>NaN</td>\n",
              "      <td>NaN</td>\n",
              "      <td>NaN</td>\n",
              "      <td>NaN</td>\n",
              "      <td>NaN</td>\n",
              "      <td>NaN</td>\n",
              "      <td>NaN</td>\n",
              "      <td>NaN</td>\n",
              "      <td>NaN</td>\n",
              "      <td>NaN</td>\n",
              "      <td>NaN</td>\n",
              "      <td>NaN</td>\n",
              "      <td>NaN</td>\n",
              "      <td>NaN</td>\n",
              "      <td>NaN</td>\n",
              "      <td>NaN</td>\n",
              "      <td>NaN</td>\n",
              "      <td>NaN</td>\n",
              "      <td>NaN</td>\n",
              "      <td>NaN</td>\n",
              "      <td>NaN</td>\n",
              "      <td>NaN</td>\n",
              "      <td>NaN</td>\n",
              "      <td>NaN</td>\n",
              "      <td>NaN</td>\n",
              "      <td>NaN</td>\n",
              "      <td>NaN</td>\n",
              "      <td>NaN</td>\n",
              "      <td>NaN</td>\n",
              "      <td>NaN</td>\n",
              "      <td>NaN</td>\n",
              "      <td>NaN</td>\n",
              "      <td>...</td>\n",
              "      <td>NaN</td>\n",
              "      <td>NaN</td>\n",
              "      <td>NaN</td>\n",
              "      <td>NaN</td>\n",
              "      <td>NaN</td>\n",
              "      <td>NaN</td>\n",
              "      <td>NaN</td>\n",
              "      <td>NaN</td>\n",
              "      <td>NaN</td>\n",
              "      <td>NaN</td>\n",
              "      <td>NaN</td>\n",
              "      <td>NaN</td>\n",
              "      <td>NaN</td>\n",
              "      <td>NaN</td>\n",
              "      <td>NaN</td>\n",
              "      <td>NaN</td>\n",
              "      <td>NaN</td>\n",
              "      <td>NaN</td>\n",
              "      <td>NaN</td>\n",
              "      <td>NaN</td>\n",
              "      <td>NaN</td>\n",
              "      <td>NaN</td>\n",
              "      <td>NaN</td>\n",
              "      <td>NaN</td>\n",
              "      <td>NaN</td>\n",
              "      <td>NaN</td>\n",
              "      <td>NaN</td>\n",
              "      <td>NaN</td>\n",
              "      <td>NaN</td>\n",
              "      <td>NaN</td>\n",
              "      <td>NaN</td>\n",
              "      <td>NaN</td>\n",
              "      <td>NaN</td>\n",
              "      <td>NaN</td>\n",
              "      <td>NaN</td>\n",
              "      <td>NaN</td>\n",
              "      <td>NaN</td>\n",
              "      <td>NaN</td>\n",
              "      <td>NaN</td>\n",
              "      <td>NaN</td>\n",
              "    </tr>\n",
              "  </tbody>\n",
              "</table>\n",
              "<p>5 rows × 110 columns</p>\n",
              "</div>"
            ],
            "text/plain": [
              "                                                text  ... Unnamed: 109\n",
              "0  Subject: naturally irresistible your corporate...  ...          NaN\n",
              "1  Subject: the stock trading gunslinger  fanny i...  ...          NaN\n",
              "2  Subject: unbelievable new homes made easy  im ...  ...          NaN\n",
              "3  Subject: 4 color printing special  request add...  ...          NaN\n",
              "4  Subject: do not have money , get software cds ...  ...          NaN\n",
              "\n",
              "[5 rows x 110 columns]"
            ]
          },
          "metadata": {
            "tags": []
          },
          "execution_count": 47
        }
      ]
    },
    {
      "cell_type": "code",
      "metadata": {
        "colab": {
          "base_uri": "https://localhost:8080/"
        },
        "id": "ByhB8ADQe9cG",
        "outputId": "1c331ded-08e1-41ec-d038-8e1e5e65d168"
      },
      "source": [
        "email.shape"
      ],
      "execution_count": 48,
      "outputs": [
        {
          "output_type": "execute_result",
          "data": {
            "text/plain": [
              "(5731, 110)"
            ]
          },
          "metadata": {
            "tags": []
          },
          "execution_count": 48
        }
      ]
    },
    {
      "cell_type": "code",
      "metadata": {
        "colab": {
          "base_uri": "https://localhost:8080/"
        },
        "id": "qgDl4G1Me9cH",
        "outputId": "a6891d3c-9b58-469b-b282-5fdded3ae1c7"
      },
      "source": [
        "email.isnull().sum()"
      ],
      "execution_count": 49,
      "outputs": [
        {
          "output_type": "execute_result",
          "data": {
            "text/plain": [
              "text               0\n",
              "spam               2\n",
              "Unnamed: 2      5729\n",
              "Unnamed: 3      5729\n",
              "Unnamed: 4      5729\n",
              "                ... \n",
              "Unnamed: 105    5729\n",
              "Unnamed: 106    5729\n",
              "Unnamed: 107    5730\n",
              "Unnamed: 108    5730\n",
              "Unnamed: 109    5730\n",
              "Length: 110, dtype: int64"
            ]
          },
          "metadata": {
            "tags": []
          },
          "execution_count": 49
        }
      ]
    },
    {
      "cell_type": "code",
      "metadata": {
        "colab": {
          "base_uri": "https://localhost:8080/",
          "height": 419
        },
        "id": "aZAKkZI4e9cH",
        "outputId": "db1ae5e6-c45d-4411-a650-114028fd63db"
      },
      "source": [
        "dt=email.iloc[:,0:2]\n",
        "dt"
      ],
      "execution_count": 50,
      "outputs": [
        {
          "output_type": "execute_result",
          "data": {
            "text/html": [
              "<div>\n",
              "<style scoped>\n",
              "    .dataframe tbody tr th:only-of-type {\n",
              "        vertical-align: middle;\n",
              "    }\n",
              "\n",
              "    .dataframe tbody tr th {\n",
              "        vertical-align: top;\n",
              "    }\n",
              "\n",
              "    .dataframe thead th {\n",
              "        text-align: right;\n",
              "    }\n",
              "</style>\n",
              "<table border=\"1\" class=\"dataframe\">\n",
              "  <thead>\n",
              "    <tr style=\"text-align: right;\">\n",
              "      <th></th>\n",
              "      <th>text</th>\n",
              "      <th>spam</th>\n",
              "    </tr>\n",
              "  </thead>\n",
              "  <tbody>\n",
              "    <tr>\n",
              "      <th>0</th>\n",
              "      <td>Subject: naturally irresistible your corporate...</td>\n",
              "      <td>1</td>\n",
              "    </tr>\n",
              "    <tr>\n",
              "      <th>1</th>\n",
              "      <td>Subject: the stock trading gunslinger  fanny i...</td>\n",
              "      <td>1</td>\n",
              "    </tr>\n",
              "    <tr>\n",
              "      <th>2</th>\n",
              "      <td>Subject: unbelievable new homes made easy  im ...</td>\n",
              "      <td>1</td>\n",
              "    </tr>\n",
              "    <tr>\n",
              "      <th>3</th>\n",
              "      <td>Subject: 4 color printing special  request add...</td>\n",
              "      <td>1</td>\n",
              "    </tr>\n",
              "    <tr>\n",
              "      <th>4</th>\n",
              "      <td>Subject: do not have money , get software cds ...</td>\n",
              "      <td>1</td>\n",
              "    </tr>\n",
              "    <tr>\n",
              "      <th>...</th>\n",
              "      <td>...</td>\n",
              "      <td>...</td>\n",
              "    </tr>\n",
              "    <tr>\n",
              "      <th>5726</th>\n",
              "      <td>Subject: re : receipts from visit  jim ,  than...</td>\n",
              "      <td>0</td>\n",
              "    </tr>\n",
              "    <tr>\n",
              "      <th>5727</th>\n",
              "      <td>Subject: re : enron case study update  wow ! a...</td>\n",
              "      <td>0</td>\n",
              "    </tr>\n",
              "    <tr>\n",
              "      <th>5728</th>\n",
              "      <td>Subject: re : interest  david ,  please , call...</td>\n",
              "      <td>0</td>\n",
              "    </tr>\n",
              "    <tr>\n",
              "      <th>5729</th>\n",
              "      <td>Subject: news : aurora 5 . 2 update  aurora ve...</td>\n",
              "      <td>0</td>\n",
              "    </tr>\n",
              "    <tr>\n",
              "      <th>5730</th>\n",
              "      <td>Subjecet : Congratulation. Hi Harsh You have b...</td>\n",
              "      <td>0</td>\n",
              "    </tr>\n",
              "  </tbody>\n",
              "</table>\n",
              "<p>5731 rows × 2 columns</p>\n",
              "</div>"
            ],
            "text/plain": [
              "                                                   text spam\n",
              "0     Subject: naturally irresistible your corporate...    1\n",
              "1     Subject: the stock trading gunslinger  fanny i...    1\n",
              "2     Subject: unbelievable new homes made easy  im ...    1\n",
              "3     Subject: 4 color printing special  request add...    1\n",
              "4     Subject: do not have money , get software cds ...    1\n",
              "...                                                 ...  ...\n",
              "5726  Subject: re : receipts from visit  jim ,  than...    0\n",
              "5727  Subject: re : enron case study update  wow ! a...    0\n",
              "5728  Subject: re : interest  david ,  please , call...    0\n",
              "5729  Subject: news : aurora 5 . 2 update  aurora ve...    0\n",
              "5730  Subjecet : Congratulation. Hi Harsh You have b...    0\n",
              "\n",
              "[5731 rows x 2 columns]"
            ]
          },
          "metadata": {
            "tags": []
          },
          "execution_count": 50
        }
      ]
    },
    {
      "cell_type": "code",
      "metadata": {
        "colab": {
          "base_uri": "https://localhost:8080/"
        },
        "id": "NrsNtcGre9cI",
        "outputId": "d8068b02-7b13-45d0-d3d5-c7d69d07ff35"
      },
      "source": [
        "dt.isna().sum()"
      ],
      "execution_count": 51,
      "outputs": [
        {
          "output_type": "execute_result",
          "data": {
            "text/plain": [
              "text    0\n",
              "spam    2\n",
              "dtype: int64"
            ]
          },
          "metadata": {
            "tags": []
          },
          "execution_count": 51
        }
      ]
    },
    {
      "cell_type": "code",
      "metadata": {
        "id": "2XCn1Id7e9cJ"
      },
      "source": [
        "dt.dropna(subset=['spam'],inplace=True)"
      ],
      "execution_count": 52,
      "outputs": []
    },
    {
      "cell_type": "code",
      "metadata": {
        "colab": {
          "base_uri": "https://localhost:8080/"
        },
        "id": "PSRiP2Fbe9cK",
        "outputId": "a8d4d984-952b-46e8-dd8f-8fdb194ba735"
      },
      "source": [
        "dt.isna().sum()"
      ],
      "execution_count": 53,
      "outputs": [
        {
          "output_type": "execute_result",
          "data": {
            "text/plain": [
              "text    0\n",
              "spam    0\n",
              "dtype: int64"
            ]
          },
          "metadata": {
            "tags": []
          },
          "execution_count": 53
        }
      ]
    },
    {
      "cell_type": "code",
      "metadata": {
        "colab": {
          "base_uri": "https://localhost:8080/",
          "height": 204
        },
        "id": "DMrASP-He9cP",
        "outputId": "9867bc5b-6369-4a8f-96e8-fd3affd666de"
      },
      "source": [
        "dt.head()"
      ],
      "execution_count": 54,
      "outputs": [
        {
          "output_type": "execute_result",
          "data": {
            "text/html": [
              "<div>\n",
              "<style scoped>\n",
              "    .dataframe tbody tr th:only-of-type {\n",
              "        vertical-align: middle;\n",
              "    }\n",
              "\n",
              "    .dataframe tbody tr th {\n",
              "        vertical-align: top;\n",
              "    }\n",
              "\n",
              "    .dataframe thead th {\n",
              "        text-align: right;\n",
              "    }\n",
              "</style>\n",
              "<table border=\"1\" class=\"dataframe\">\n",
              "  <thead>\n",
              "    <tr style=\"text-align: right;\">\n",
              "      <th></th>\n",
              "      <th>text</th>\n",
              "      <th>spam</th>\n",
              "    </tr>\n",
              "  </thead>\n",
              "  <tbody>\n",
              "    <tr>\n",
              "      <th>0</th>\n",
              "      <td>Subject: naturally irresistible your corporate...</td>\n",
              "      <td>1</td>\n",
              "    </tr>\n",
              "    <tr>\n",
              "      <th>1</th>\n",
              "      <td>Subject: the stock trading gunslinger  fanny i...</td>\n",
              "      <td>1</td>\n",
              "    </tr>\n",
              "    <tr>\n",
              "      <th>2</th>\n",
              "      <td>Subject: unbelievable new homes made easy  im ...</td>\n",
              "      <td>1</td>\n",
              "    </tr>\n",
              "    <tr>\n",
              "      <th>3</th>\n",
              "      <td>Subject: 4 color printing special  request add...</td>\n",
              "      <td>1</td>\n",
              "    </tr>\n",
              "    <tr>\n",
              "      <th>4</th>\n",
              "      <td>Subject: do not have money , get software cds ...</td>\n",
              "      <td>1</td>\n",
              "    </tr>\n",
              "  </tbody>\n",
              "</table>\n",
              "</div>"
            ],
            "text/plain": [
              "                                                text spam\n",
              "0  Subject: naturally irresistible your corporate...    1\n",
              "1  Subject: the stock trading gunslinger  fanny i...    1\n",
              "2  Subject: unbelievable new homes made easy  im ...    1\n",
              "3  Subject: 4 color printing special  request add...    1\n",
              "4  Subject: do not have money , get software cds ...    1"
            ]
          },
          "metadata": {
            "tags": []
          },
          "execution_count": 54
        }
      ]
    },
    {
      "cell_type": "code",
      "metadata": {
        "colab": {
          "base_uri": "https://localhost:8080/"
        },
        "id": "Lnq4cvJqe9cQ",
        "outputId": "a14486c7-5d2b-4f3a-fc4f-247ea7cb5a8e"
      },
      "source": [
        "dt.columns"
      ],
      "execution_count": 55,
      "outputs": [
        {
          "output_type": "execute_result",
          "data": {
            "text/plain": [
              "Index(['text', 'spam'], dtype='object')"
            ]
          },
          "metadata": {
            "tags": []
          },
          "execution_count": 55
        }
      ]
    },
    {
      "cell_type": "code",
      "metadata": {
        "colab": {
          "base_uri": "https://localhost:8080/",
          "height": 137
        },
        "id": "luIMOa-Qe9cR",
        "outputId": "1f551200-bed6-44fe-a67a-3b12e9129d15"
      },
      "source": [
        "dt['text'][0] #before"
      ],
      "execution_count": 56,
      "outputs": [
        {
          "output_type": "execute_result",
          "data": {
            "application/vnd.google.colaboratory.intrinsic+json": {
              "type": "string"
            },
            "text/plain": [
              "\"Subject: naturally irresistible your corporate identity  lt is really hard to recollect a company : the  market is full of suqgestions and the information isoverwhelminq ; but a good  catchy logo , stylish statlonery and outstanding website  will make the task much easier .  we do not promise that havinq ordered a iogo your  company will automaticaily become a world ieader : it isguite ciear that  without good products , effective business organization and practicable aim it  will be hotat nowadays market ; but we do promise that your marketing efforts  will become much more effective . here is the list of clear  benefits : creativeness : hand - made , original logos , specially done  to reflect your distinctive company image . convenience : logo and stationery  are provided in all formats ; easy - to - use content management system letsyou  change your website content and even its structure . promptness : you  will see logo drafts within three business days . affordability : your  marketing break - through shouldn ' t make gaps in your budget . 100 % satisfaction  guaranteed : we provide unlimited amount of changes with no extra fees for you to  be surethat you will love the result of this collaboration . have a look at our  portfolio _ _ _ _ _ _ _ _ _ _ _ _ _ _ _ _ _ _ _ _ _ _ _ _ _ _ _ _ _ _ _ _ _ _ _ _ _ _ _ _ _ _ _ _ _ _ _ _ _ _ _ _ not interested . . . _ _ _ _ _ _ _ _ _ _ _ _ _ _ _ _ _ _ _ _ _ _ _ _ _ _ _ _ _ _ _ _ _ _ _ _ _ _ _ _ _ _ _ _ _ _ _ _ _ _ _ _\""
            ]
          },
          "metadata": {
            "tags": []
          },
          "execution_count": 56
        }
      ]
    },
    {
      "cell_type": "markdown",
      "metadata": {
        "id": "yO7lRB_8yKz-"
      },
      "source": [
        "Observation(s):\n",
        "1.removed all nulldata from dataset\n"
      ]
    },
    {
      "cell_type": "markdown",
      "metadata": {
        "id": "ig4egWzPe9cR"
      },
      "source": [
        "# tokanization (spliting line)"
      ]
    },
    {
      "cell_type": "code",
      "metadata": {
        "id": "db99ldVQe9cR"
      },
      "source": [
        "def tokenizer(text):\n",
        "    return text.split()"
      ],
      "execution_count": 57,
      "outputs": []
    },
    {
      "cell_type": "code",
      "metadata": {
        "id": "Ea8uLYhae9cS"
      },
      "source": [
        "dt['text']=dt['text'].apply(tokenizer)"
      ],
      "execution_count": 58,
      "outputs": []
    },
    {
      "cell_type": "code",
      "metadata": {
        "colab": {
          "base_uri": "https://localhost:8080/"
        },
        "id": "AyJjF-Xge9cS",
        "outputId": "4f4449ca-328f-4ed5-8c8e-e6b18238a9b1"
      },
      "source": [
        "dt['text'][1]\n",
        "# after tokenization"
      ],
      "execution_count": 59,
      "outputs": [
        {
          "output_type": "execute_result",
          "data": {
            "text/plain": [
              "['Subject:',\n",
              " 'the',\n",
              " 'stock',\n",
              " 'trading',\n",
              " 'gunslinger',\n",
              " 'fanny',\n",
              " 'is',\n",
              " 'merrill',\n",
              " 'but',\n",
              " 'muzo',\n",
              " 'not',\n",
              " 'colza',\n",
              " 'attainder',\n",
              " 'and',\n",
              " 'penultimate',\n",
              " 'like',\n",
              " 'esmark',\n",
              " 'perspicuous',\n",
              " 'ramble',\n",
              " 'is',\n",
              " 'segovia',\n",
              " 'not',\n",
              " 'group',\n",
              " 'try',\n",
              " 'slung',\n",
              " 'kansas',\n",
              " 'tanzania',\n",
              " 'yes',\n",
              " 'chameleon',\n",
              " 'or',\n",
              " 'continuant',\n",
              " 'clothesman',\n",
              " 'no',\n",
              " 'libretto',\n",
              " 'is',\n",
              " 'chesapeake',\n",
              " 'but',\n",
              " 'tight',\n",
              " 'not',\n",
              " 'waterway',\n",
              " 'herald',\n",
              " 'and',\n",
              " 'hawthorn',\n",
              " 'like',\n",
              " 'chisel',\n",
              " 'morristown',\n",
              " 'superior',\n",
              " 'is',\n",
              " 'deoxyribonucleic',\n",
              " 'not',\n",
              " 'clockwork',\n",
              " 'try',\n",
              " 'hall',\n",
              " 'incredible',\n",
              " 'mcdougall',\n",
              " 'yes',\n",
              " 'hepburn',\n",
              " 'or',\n",
              " 'einsteinian',\n",
              " 'earmark',\n",
              " 'no',\n",
              " 'sapling',\n",
              " 'is',\n",
              " 'boar',\n",
              " 'but',\n",
              " 'duane',\n",
              " 'not',\n",
              " 'plain',\n",
              " 'palfrey',\n",
              " 'and',\n",
              " 'inflexible',\n",
              " 'like',\n",
              " 'huzzah',\n",
              " 'pepperoni',\n",
              " 'bedtime',\n",
              " 'is',\n",
              " 'nameable',\n",
              " 'not',\n",
              " 'attire',\n",
              " 'try',\n",
              " 'edt',\n",
              " 'chronography',\n",
              " 'optima',\n",
              " 'yes',\n",
              " 'pirogue',\n",
              " 'or',\n",
              " 'diffusion',\n",
              " 'albeit',\n",
              " 'no']"
            ]
          },
          "metadata": {
            "tags": []
          },
          "execution_count": 59
        }
      ]
    },
    {
      "cell_type": "markdown",
      "metadata": {
        "id": "sD-PmjODe9cS"
      },
      "source": [
        "# steaming (extract suffix)"
      ]
    },
    {
      "cell_type": "code",
      "metadata": {
        "colab": {
          "base_uri": "https://localhost:8080/"
        },
        "id": "pwS3SzpOe9cT",
        "outputId": "10ad3843-bf6b-4188-f404-0772ec7101f0"
      },
      "source": [
        "dt['text'][2]"
      ],
      "execution_count": 60,
      "outputs": [
        {
          "output_type": "execute_result",
          "data": {
            "text/plain": [
              "['Subject:',\n",
              " 'unbelievable',\n",
              " 'new',\n",
              " 'homes',\n",
              " 'made',\n",
              " 'easy',\n",
              " 'im',\n",
              " 'wanting',\n",
              " 'to',\n",
              " 'show',\n",
              " 'you',\n",
              " 'this',\n",
              " 'homeowner',\n",
              " 'you',\n",
              " 'have',\n",
              " 'been',\n",
              " 'pre',\n",
              " '-',\n",
              " 'approved',\n",
              " 'for',\n",
              " 'a',\n",
              " '$',\n",
              " '454',\n",
              " ',',\n",
              " '169',\n",
              " 'home',\n",
              " 'loan',\n",
              " 'at',\n",
              " 'a',\n",
              " '3',\n",
              " '.',\n",
              " '72',\n",
              " 'fixed',\n",
              " 'rate',\n",
              " '.',\n",
              " 'this',\n",
              " 'offer',\n",
              " 'is',\n",
              " 'being',\n",
              " 'extended',\n",
              " 'to',\n",
              " 'you',\n",
              " 'unconditionally',\n",
              " 'and',\n",
              " 'your',\n",
              " 'credit',\n",
              " 'is',\n",
              " 'in',\n",
              " 'no',\n",
              " 'way',\n",
              " 'a',\n",
              " 'factor',\n",
              " '.',\n",
              " 'to',\n",
              " 'take',\n",
              " 'advantage',\n",
              " 'of',\n",
              " 'this',\n",
              " 'limited',\n",
              " 'time',\n",
              " 'opportunity',\n",
              " 'all',\n",
              " 'we',\n",
              " 'ask',\n",
              " 'is',\n",
              " 'that',\n",
              " 'you',\n",
              " 'visit',\n",
              " 'our',\n",
              " 'website',\n",
              " 'and',\n",
              " 'complete',\n",
              " 'the',\n",
              " '1',\n",
              " 'minute',\n",
              " 'post',\n",
              " 'approval',\n",
              " 'form',\n",
              " 'look',\n",
              " 'foward',\n",
              " 'to',\n",
              " 'hearing',\n",
              " 'from',\n",
              " 'you',\n",
              " ',',\n",
              " 'dorcas',\n",
              " 'pittman']"
            ]
          },
          "metadata": {
            "tags": []
          },
          "execution_count": 60
        }
      ]
    },
    {
      "cell_type": "code",
      "metadata": {
        "id": "Zc4DbkNAe9cT"
      },
      "source": [
        "from nltk.stem.snowball import SnowballStemmer\n",
        "porter=SnowballStemmer('english',ignore_stopwords=False)"
      ],
      "execution_count": 61,
      "outputs": []
    },
    {
      "cell_type": "code",
      "metadata": {
        "colab": {
          "base_uri": "https://localhost:8080/"
        },
        "id": "T2GKf7-Ze9cT",
        "outputId": "5d4449b2-3d60-4df0-86b6-10f1f703a68f"
      },
      "source": [
        "dt['text'][1]"
      ],
      "execution_count": 62,
      "outputs": [
        {
          "output_type": "execute_result",
          "data": {
            "text/plain": [
              "['Subject:',\n",
              " 'the',\n",
              " 'stock',\n",
              " 'trading',\n",
              " 'gunslinger',\n",
              " 'fanny',\n",
              " 'is',\n",
              " 'merrill',\n",
              " 'but',\n",
              " 'muzo',\n",
              " 'not',\n",
              " 'colza',\n",
              " 'attainder',\n",
              " 'and',\n",
              " 'penultimate',\n",
              " 'like',\n",
              " 'esmark',\n",
              " 'perspicuous',\n",
              " 'ramble',\n",
              " 'is',\n",
              " 'segovia',\n",
              " 'not',\n",
              " 'group',\n",
              " 'try',\n",
              " 'slung',\n",
              " 'kansas',\n",
              " 'tanzania',\n",
              " 'yes',\n",
              " 'chameleon',\n",
              " 'or',\n",
              " 'continuant',\n",
              " 'clothesman',\n",
              " 'no',\n",
              " 'libretto',\n",
              " 'is',\n",
              " 'chesapeake',\n",
              " 'but',\n",
              " 'tight',\n",
              " 'not',\n",
              " 'waterway',\n",
              " 'herald',\n",
              " 'and',\n",
              " 'hawthorn',\n",
              " 'like',\n",
              " 'chisel',\n",
              " 'morristown',\n",
              " 'superior',\n",
              " 'is',\n",
              " 'deoxyribonucleic',\n",
              " 'not',\n",
              " 'clockwork',\n",
              " 'try',\n",
              " 'hall',\n",
              " 'incredible',\n",
              " 'mcdougall',\n",
              " 'yes',\n",
              " 'hepburn',\n",
              " 'or',\n",
              " 'einsteinian',\n",
              " 'earmark',\n",
              " 'no',\n",
              " 'sapling',\n",
              " 'is',\n",
              " 'boar',\n",
              " 'but',\n",
              " 'duane',\n",
              " 'not',\n",
              " 'plain',\n",
              " 'palfrey',\n",
              " 'and',\n",
              " 'inflexible',\n",
              " 'like',\n",
              " 'huzzah',\n",
              " 'pepperoni',\n",
              " 'bedtime',\n",
              " 'is',\n",
              " 'nameable',\n",
              " 'not',\n",
              " 'attire',\n",
              " 'try',\n",
              " 'edt',\n",
              " 'chronography',\n",
              " 'optima',\n",
              " 'yes',\n",
              " 'pirogue',\n",
              " 'or',\n",
              " 'diffusion',\n",
              " 'albeit',\n",
              " 'no']"
            ]
          },
          "metadata": {
            "tags": []
          },
          "execution_count": 62
        }
      ]
    },
    {
      "cell_type": "markdown",
      "metadata": {
        "id": "VlEJHJA-e9cT"
      },
      "source": [
        "# lemmitization(convert into dictwords)"
      ]
    },
    {
      "cell_type": "code",
      "metadata": {
        "colab": {
          "base_uri": "https://localhost:8080/"
        },
        "id": "4fA_khm6e9cU",
        "outputId": "bf3fd06d-46dd-4f60-83a6-d64482167213"
      },
      "source": [
        "dt['text'][4]#before lemmatization"
      ],
      "execution_count": 63,
      "outputs": [
        {
          "output_type": "execute_result",
          "data": {
            "text/plain": [
              "['Subject:',\n",
              " 'do',\n",
              " 'not',\n",
              " 'have',\n",
              " 'money',\n",
              " ',',\n",
              " 'get',\n",
              " 'software',\n",
              " 'cds',\n",
              " 'from',\n",
              " 'here',\n",
              " '!',\n",
              " 'software',\n",
              " 'compatibility',\n",
              " '.',\n",
              " '.',\n",
              " '.',\n",
              " '.',\n",
              " 'ain',\n",
              " \"'\",\n",
              " 't',\n",
              " 'it',\n",
              " 'great',\n",
              " '?',\n",
              " 'grow',\n",
              " 'old',\n",
              " 'along',\n",
              " 'with',\n",
              " 'me',\n",
              " 'the',\n",
              " 'best',\n",
              " 'is',\n",
              " 'yet',\n",
              " 'to',\n",
              " 'be',\n",
              " '.',\n",
              " 'all',\n",
              " 'tradgedies',\n",
              " 'are',\n",
              " 'finish',\n",
              " \"'\",\n",
              " 'd',\n",
              " 'by',\n",
              " 'death',\n",
              " '.',\n",
              " 'all',\n",
              " 'comedies',\n",
              " 'are',\n",
              " 'ended',\n",
              " 'by',\n",
              " 'marriage',\n",
              " '.']"
            ]
          },
          "metadata": {
            "tags": []
          },
          "execution_count": 63
        }
      ]
    },
    {
      "cell_type": "code",
      "metadata": {
        "id": "8-de5Ov2e9cU"
      },
      "source": [
        "from nltk.stem import WordNetLemmatizer\n",
        "lemmatizer=WordNetLemmatizer()"
      ],
      "execution_count": 64,
      "outputs": []
    },
    {
      "cell_type": "code",
      "metadata": {
        "id": "y5i96xqfe9cU"
      },
      "source": [
        "def lemmit_it(text):\n",
        "    return [lemmatizer.lemmatize(word,pos='a') for word in text]"
      ],
      "execution_count": 65,
      "outputs": []
    },
    {
      "cell_type": "code",
      "metadata": {
        "id": "3Vw1UQo6e9cV"
      },
      "source": [
        "dt['text']=dt['text'].apply(lemmit_it)"
      ],
      "execution_count": 66,
      "outputs": []
    },
    {
      "cell_type": "code",
      "metadata": {
        "colab": {
          "base_uri": "https://localhost:8080/"
        },
        "id": "7V4F6x7We9cV",
        "outputId": "b07ae8d3-47dd-484f-ca10-1368687ac47d"
      },
      "source": [
        "dt['text'][147]#after lemmatization"
      ],
      "execution_count": 67,
      "outputs": [
        {
          "output_type": "execute_result",
          "data": {
            "text/plain": [
              "['Subject:',\n",
              " 'looking',\n",
              " 'for',\n",
              " 'good',\n",
              " 'it',\n",
              " 'team',\n",
              " '?',\n",
              " 'we',\n",
              " 'do',\n",
              " 'software',\n",
              " 'engineering',\n",
              " '!',\n",
              " 'looklng',\n",
              " 'for',\n",
              " 'a',\n",
              " 'good',\n",
              " 'lt',\n",
              " 'team',\n",
              " '?',\n",
              " 'there',\n",
              " 'can',\n",
              " 'be',\n",
              " 'many',\n",
              " 'reasons',\n",
              " 'for',\n",
              " 'hiring',\n",
              " 'a',\n",
              " 'professional',\n",
              " 'lt',\n",
              " 'team',\n",
              " '.',\n",
              " '.',\n",
              " '.',\n",
              " '-',\n",
              " 'lf',\n",
              " 'you',\n",
              " \"'\",\n",
              " 've',\n",
              " 'got',\n",
              " 'an',\n",
              " 'active',\n",
              " 'on',\n",
              " '-',\n",
              " 'iine',\n",
              " 'business',\n",
              " 'and',\n",
              " 'you',\n",
              " 'are',\n",
              " 'dissatisfied',\n",
              " 'with',\n",
              " 'the',\n",
              " 'guaiity',\n",
              " 'of',\n",
              " 'your',\n",
              " 'currentsupport',\n",
              " ',',\n",
              " 'its',\n",
              " 'cost',\n",
              " ',',\n",
              " 'or',\n",
              " 'both',\n",
              " '.',\n",
              " '.',\n",
              " '.',\n",
              " '-',\n",
              " 'lf',\n",
              " 'your',\n",
              " 'business',\n",
              " 'is',\n",
              " 'expandinq',\n",
              " 'and',\n",
              " 'you',\n",
              " \"'\",\n",
              " 're',\n",
              " 'ionqing',\n",
              " 'for',\n",
              " 'a',\n",
              " 'professional',\n",
              " 'support',\n",
              " 'team',\n",
              " '.',\n",
              " '.',\n",
              " '.',\n",
              " '-',\n",
              " 'if',\n",
              " 'you',\n",
              " 'have',\n",
              " 'specific',\n",
              " 'software',\n",
              " 'requirements',\n",
              " 'and',\n",
              " 'you',\n",
              " \"'\",\n",
              " 'd',\n",
              " 'iike',\n",
              " 'to',\n",
              " 'have',\n",
              " 'your',\n",
              " 'soiutions',\n",
              " 'customized',\n",
              " ',',\n",
              " 'toqetherwith',\n",
              " 'warranties',\n",
              " 'and',\n",
              " 'reiiable',\n",
              " 'support',\n",
              " '.',\n",
              " '.',\n",
              " '.',\n",
              " '-',\n",
              " 'lf',\n",
              " 'you',\n",
              " 'have',\n",
              " 'the',\n",
              " 'perfect',\n",
              " 'business',\n",
              " 'idea',\n",
              " 'and',\n",
              " 'want',\n",
              " 'to',\n",
              " 'make',\n",
              " 'it',\n",
              " 'a',\n",
              " 'reaiity',\n",
              " '.',\n",
              " '.',\n",
              " '.',\n",
              " '-',\n",
              " 'if',\n",
              " 'your',\n",
              " 'project',\n",
              " 'has',\n",
              " 'stalled',\n",
              " 'due',\n",
              " 'to',\n",
              " 'lack',\n",
              " 'of',\n",
              " 'additional',\n",
              " 'resources',\n",
              " '.',\n",
              " '.',\n",
              " '.',\n",
              " '-',\n",
              " 'if',\n",
              " 'you',\n",
              " 'need',\n",
              " 'an',\n",
              " 'independent',\n",
              " 'team',\n",
              " 'for',\n",
              " 'benchmarking',\n",
              " ',',\n",
              " 'optimization',\n",
              " ',',\n",
              " 'quality',\n",
              " 'assurance',\n",
              " '.',\n",
              " '.',\n",
              " '.',\n",
              " 'if',\n",
              " 'you',\n",
              " \"'\",\n",
              " 're',\n",
              " 'looking',\n",
              " 'for',\n",
              " 'a',\n",
              " 'truly',\n",
              " 'professional',\n",
              " 'team',\n",
              " ',',\n",
              " 'we',\n",
              " 'are',\n",
              " 'at',\n",
              " 'your',\n",
              " 'service',\n",
              " '!',\n",
              " 'just',\n",
              " 'visit',\n",
              " 'our',\n",
              " 'website',\n",
              " '_',\n",
              " '_',\n",
              " '_',\n",
              " '_',\n",
              " '_',\n",
              " '_',\n",
              " '_',\n",
              " '_',\n",
              " '_',\n",
              " '_',\n",
              " '_',\n",
              " '_',\n",
              " '_',\n",
              " '_',\n",
              " '_',\n",
              " '_',\n",
              " '_',\n",
              " '_',\n",
              " '_',\n",
              " '_',\n",
              " '_',\n",
              " '_',\n",
              " '_',\n",
              " '_',\n",
              " '_',\n",
              " '_',\n",
              " '_',\n",
              " '_',\n",
              " '_',\n",
              " '_',\n",
              " '_',\n",
              " '_',\n",
              " '_',\n",
              " '_',\n",
              " '_',\n",
              " '_',\n",
              " '_',\n",
              " '_',\n",
              " '_',\n",
              " '_',\n",
              " '_',\n",
              " '_',\n",
              " '_',\n",
              " '_',\n",
              " '_',\n",
              " '_',\n",
              " '_',\n",
              " '_',\n",
              " '_',\n",
              " '_',\n",
              " '_',\n",
              " '_',\n",
              " '_',\n",
              " 'not',\n",
              " 'interested',\n",
              " '.',\n",
              " '.',\n",
              " '.',\n",
              " '_',\n",
              " '_',\n",
              " '_',\n",
              " '_',\n",
              " '_',\n",
              " '_',\n",
              " '_',\n",
              " '_',\n",
              " '_',\n",
              " '_',\n",
              " '_',\n",
              " '_',\n",
              " '_',\n",
              " '_',\n",
              " '_',\n",
              " '_',\n",
              " '_',\n",
              " '_',\n",
              " '_',\n",
              " '_',\n",
              " '_',\n",
              " '_',\n",
              " '_',\n",
              " '_',\n",
              " '_',\n",
              " '_',\n",
              " '_',\n",
              " '_',\n",
              " '_',\n",
              " '_',\n",
              " '_',\n",
              " '_',\n",
              " '_',\n",
              " '_',\n",
              " '_',\n",
              " '_',\n",
              " '_',\n",
              " '_',\n",
              " '_',\n",
              " '_',\n",
              " '_',\n",
              " '_',\n",
              " '_',\n",
              " '_',\n",
              " '_',\n",
              " '_',\n",
              " '_',\n",
              " '_',\n",
              " '_',\n",
              " '_',\n",
              " '_',\n",
              " '_',\n",
              " '_']"
            ]
          },
          "metadata": {
            "tags": []
          },
          "execution_count": 67
        }
      ]
    },
    {
      "cell_type": "markdown",
      "metadata": {
        "id": "MzRO2CHQe9cV"
      },
      "source": [
        "# stop word removal(the,a ,an (ignore))"
      ]
    },
    {
      "cell_type": "code",
      "metadata": {
        "colab": {
          "base_uri": "https://localhost:8080/"
        },
        "id": "XcAk55aDe9cV",
        "outputId": "93428b44-c962-48af-cdce-be8379a15881"
      },
      "source": [
        "dt['text'][147]#unique words are taken"
      ],
      "execution_count": 68,
      "outputs": [
        {
          "output_type": "execute_result",
          "data": {
            "text/plain": [
              "['Subject:',\n",
              " 'looking',\n",
              " 'for',\n",
              " 'good',\n",
              " 'it',\n",
              " 'team',\n",
              " '?',\n",
              " 'we',\n",
              " 'do',\n",
              " 'software',\n",
              " 'engineering',\n",
              " '!',\n",
              " 'looklng',\n",
              " 'for',\n",
              " 'a',\n",
              " 'good',\n",
              " 'lt',\n",
              " 'team',\n",
              " '?',\n",
              " 'there',\n",
              " 'can',\n",
              " 'be',\n",
              " 'many',\n",
              " 'reasons',\n",
              " 'for',\n",
              " 'hiring',\n",
              " 'a',\n",
              " 'professional',\n",
              " 'lt',\n",
              " 'team',\n",
              " '.',\n",
              " '.',\n",
              " '.',\n",
              " '-',\n",
              " 'lf',\n",
              " 'you',\n",
              " \"'\",\n",
              " 've',\n",
              " 'got',\n",
              " 'an',\n",
              " 'active',\n",
              " 'on',\n",
              " '-',\n",
              " 'iine',\n",
              " 'business',\n",
              " 'and',\n",
              " 'you',\n",
              " 'are',\n",
              " 'dissatisfied',\n",
              " 'with',\n",
              " 'the',\n",
              " 'guaiity',\n",
              " 'of',\n",
              " 'your',\n",
              " 'currentsupport',\n",
              " ',',\n",
              " 'its',\n",
              " 'cost',\n",
              " ',',\n",
              " 'or',\n",
              " 'both',\n",
              " '.',\n",
              " '.',\n",
              " '.',\n",
              " '-',\n",
              " 'lf',\n",
              " 'your',\n",
              " 'business',\n",
              " 'is',\n",
              " 'expandinq',\n",
              " 'and',\n",
              " 'you',\n",
              " \"'\",\n",
              " 're',\n",
              " 'ionqing',\n",
              " 'for',\n",
              " 'a',\n",
              " 'professional',\n",
              " 'support',\n",
              " 'team',\n",
              " '.',\n",
              " '.',\n",
              " '.',\n",
              " '-',\n",
              " 'if',\n",
              " 'you',\n",
              " 'have',\n",
              " 'specific',\n",
              " 'software',\n",
              " 'requirements',\n",
              " 'and',\n",
              " 'you',\n",
              " \"'\",\n",
              " 'd',\n",
              " 'iike',\n",
              " 'to',\n",
              " 'have',\n",
              " 'your',\n",
              " 'soiutions',\n",
              " 'customized',\n",
              " ',',\n",
              " 'toqetherwith',\n",
              " 'warranties',\n",
              " 'and',\n",
              " 'reiiable',\n",
              " 'support',\n",
              " '.',\n",
              " '.',\n",
              " '.',\n",
              " '-',\n",
              " 'lf',\n",
              " 'you',\n",
              " 'have',\n",
              " 'the',\n",
              " 'perfect',\n",
              " 'business',\n",
              " 'idea',\n",
              " 'and',\n",
              " 'want',\n",
              " 'to',\n",
              " 'make',\n",
              " 'it',\n",
              " 'a',\n",
              " 'reaiity',\n",
              " '.',\n",
              " '.',\n",
              " '.',\n",
              " '-',\n",
              " 'if',\n",
              " 'your',\n",
              " 'project',\n",
              " 'has',\n",
              " 'stalled',\n",
              " 'due',\n",
              " 'to',\n",
              " 'lack',\n",
              " 'of',\n",
              " 'additional',\n",
              " 'resources',\n",
              " '.',\n",
              " '.',\n",
              " '.',\n",
              " '-',\n",
              " 'if',\n",
              " 'you',\n",
              " 'need',\n",
              " 'an',\n",
              " 'independent',\n",
              " 'team',\n",
              " 'for',\n",
              " 'benchmarking',\n",
              " ',',\n",
              " 'optimization',\n",
              " ',',\n",
              " 'quality',\n",
              " 'assurance',\n",
              " '.',\n",
              " '.',\n",
              " '.',\n",
              " 'if',\n",
              " 'you',\n",
              " \"'\",\n",
              " 're',\n",
              " 'looking',\n",
              " 'for',\n",
              " 'a',\n",
              " 'truly',\n",
              " 'professional',\n",
              " 'team',\n",
              " ',',\n",
              " 'we',\n",
              " 'are',\n",
              " 'at',\n",
              " 'your',\n",
              " 'service',\n",
              " '!',\n",
              " 'just',\n",
              " 'visit',\n",
              " 'our',\n",
              " 'website',\n",
              " '_',\n",
              " '_',\n",
              " '_',\n",
              " '_',\n",
              " '_',\n",
              " '_',\n",
              " '_',\n",
              " '_',\n",
              " '_',\n",
              " '_',\n",
              " '_',\n",
              " '_',\n",
              " '_',\n",
              " '_',\n",
              " '_',\n",
              " '_',\n",
              " '_',\n",
              " '_',\n",
              " '_',\n",
              " '_',\n",
              " '_',\n",
              " '_',\n",
              " '_',\n",
              " '_',\n",
              " '_',\n",
              " '_',\n",
              " '_',\n",
              " '_',\n",
              " '_',\n",
              " '_',\n",
              " '_',\n",
              " '_',\n",
              " '_',\n",
              " '_',\n",
              " '_',\n",
              " '_',\n",
              " '_',\n",
              " '_',\n",
              " '_',\n",
              " '_',\n",
              " '_',\n",
              " '_',\n",
              " '_',\n",
              " '_',\n",
              " '_',\n",
              " '_',\n",
              " '_',\n",
              " '_',\n",
              " '_',\n",
              " '_',\n",
              " '_',\n",
              " '_',\n",
              " '_',\n",
              " 'not',\n",
              " 'interested',\n",
              " '.',\n",
              " '.',\n",
              " '.',\n",
              " '_',\n",
              " '_',\n",
              " '_',\n",
              " '_',\n",
              " '_',\n",
              " '_',\n",
              " '_',\n",
              " '_',\n",
              " '_',\n",
              " '_',\n",
              " '_',\n",
              " '_',\n",
              " '_',\n",
              " '_',\n",
              " '_',\n",
              " '_',\n",
              " '_',\n",
              " '_',\n",
              " '_',\n",
              " '_',\n",
              " '_',\n",
              " '_',\n",
              " '_',\n",
              " '_',\n",
              " '_',\n",
              " '_',\n",
              " '_',\n",
              " '_',\n",
              " '_',\n",
              " '_',\n",
              " '_',\n",
              " '_',\n",
              " '_',\n",
              " '_',\n",
              " '_',\n",
              " '_',\n",
              " '_',\n",
              " '_',\n",
              " '_',\n",
              " '_',\n",
              " '_',\n",
              " '_',\n",
              " '_',\n",
              " '_',\n",
              " '_',\n",
              " '_',\n",
              " '_',\n",
              " '_',\n",
              " '_',\n",
              " '_',\n",
              " '_',\n",
              " '_',\n",
              " '_']"
            ]
          },
          "metadata": {
            "tags": []
          },
          "execution_count": 68
        }
      ]
    },
    {
      "cell_type": "code",
      "metadata": {
        "id": "drPCrLxCe9cW"
      },
      "source": [
        "from nltk.corpus import stopwords\n",
        "stop_words= stopwords.words('english')"
      ],
      "execution_count": 69,
      "outputs": []
    },
    {
      "cell_type": "code",
      "metadata": {
        "id": "3PmfrGwDe9cW"
      },
      "source": [
        "def stop_x(text):\n",
        "    return [word for word in text if not word in stop_words]"
      ],
      "execution_count": 70,
      "outputs": []
    },
    {
      "cell_type": "code",
      "metadata": {
        "id": "npFSAz8be9cW"
      },
      "source": [
        "dt['text']=dt['text'].apply(stop_x)"
      ],
      "execution_count": 71,
      "outputs": []
    },
    {
      "cell_type": "code",
      "metadata": {
        "colab": {
          "base_uri": "https://localhost:8080/"
        },
        "id": "rbcN8BK2e9cW",
        "outputId": "d64cd622-7a5a-4c16-c20c-0103ee650fb0"
      },
      "source": [
        "dt['text'][147]"
      ],
      "execution_count": 72,
      "outputs": [
        {
          "output_type": "execute_result",
          "data": {
            "text/plain": [
              "['Subject:',\n",
              " 'looking',\n",
              " 'good',\n",
              " 'team',\n",
              " '?',\n",
              " 'software',\n",
              " 'engineering',\n",
              " '!',\n",
              " 'looklng',\n",
              " 'good',\n",
              " 'lt',\n",
              " 'team',\n",
              " '?',\n",
              " 'many',\n",
              " 'reasons',\n",
              " 'hiring',\n",
              " 'professional',\n",
              " 'lt',\n",
              " 'team',\n",
              " '.',\n",
              " '.',\n",
              " '.',\n",
              " '-',\n",
              " 'lf',\n",
              " \"'\",\n",
              " 'got',\n",
              " 'active',\n",
              " '-',\n",
              " 'iine',\n",
              " 'business',\n",
              " 'dissatisfied',\n",
              " 'guaiity',\n",
              " 'currentsupport',\n",
              " ',',\n",
              " 'cost',\n",
              " ',',\n",
              " '.',\n",
              " '.',\n",
              " '.',\n",
              " '-',\n",
              " 'lf',\n",
              " 'business',\n",
              " 'expandinq',\n",
              " \"'\",\n",
              " 'ionqing',\n",
              " 'professional',\n",
              " 'support',\n",
              " 'team',\n",
              " '.',\n",
              " '.',\n",
              " '.',\n",
              " '-',\n",
              " 'specific',\n",
              " 'software',\n",
              " 'requirements',\n",
              " \"'\",\n",
              " 'iike',\n",
              " 'soiutions',\n",
              " 'customized',\n",
              " ',',\n",
              " 'toqetherwith',\n",
              " 'warranties',\n",
              " 'reiiable',\n",
              " 'support',\n",
              " '.',\n",
              " '.',\n",
              " '.',\n",
              " '-',\n",
              " 'lf',\n",
              " 'perfect',\n",
              " 'business',\n",
              " 'idea',\n",
              " 'want',\n",
              " 'make',\n",
              " 'reaiity',\n",
              " '.',\n",
              " '.',\n",
              " '.',\n",
              " '-',\n",
              " 'project',\n",
              " 'stalled',\n",
              " 'due',\n",
              " 'lack',\n",
              " 'additional',\n",
              " 'resources',\n",
              " '.',\n",
              " '.',\n",
              " '.',\n",
              " '-',\n",
              " 'need',\n",
              " 'independent',\n",
              " 'team',\n",
              " 'benchmarking',\n",
              " ',',\n",
              " 'optimization',\n",
              " ',',\n",
              " 'quality',\n",
              " 'assurance',\n",
              " '.',\n",
              " '.',\n",
              " '.',\n",
              " \"'\",\n",
              " 'looking',\n",
              " 'truly',\n",
              " 'professional',\n",
              " 'team',\n",
              " ',',\n",
              " 'service',\n",
              " '!',\n",
              " 'visit',\n",
              " 'website',\n",
              " '_',\n",
              " '_',\n",
              " '_',\n",
              " '_',\n",
              " '_',\n",
              " '_',\n",
              " '_',\n",
              " '_',\n",
              " '_',\n",
              " '_',\n",
              " '_',\n",
              " '_',\n",
              " '_',\n",
              " '_',\n",
              " '_',\n",
              " '_',\n",
              " '_',\n",
              " '_',\n",
              " '_',\n",
              " '_',\n",
              " '_',\n",
              " '_',\n",
              " '_',\n",
              " '_',\n",
              " '_',\n",
              " '_',\n",
              " '_',\n",
              " '_',\n",
              " '_',\n",
              " '_',\n",
              " '_',\n",
              " '_',\n",
              " '_',\n",
              " '_',\n",
              " '_',\n",
              " '_',\n",
              " '_',\n",
              " '_',\n",
              " '_',\n",
              " '_',\n",
              " '_',\n",
              " '_',\n",
              " '_',\n",
              " '_',\n",
              " '_',\n",
              " '_',\n",
              " '_',\n",
              " '_',\n",
              " '_',\n",
              " '_',\n",
              " '_',\n",
              " '_',\n",
              " '_',\n",
              " 'interested',\n",
              " '.',\n",
              " '.',\n",
              " '.',\n",
              " '_',\n",
              " '_',\n",
              " '_',\n",
              " '_',\n",
              " '_',\n",
              " '_',\n",
              " '_',\n",
              " '_',\n",
              " '_',\n",
              " '_',\n",
              " '_',\n",
              " '_',\n",
              " '_',\n",
              " '_',\n",
              " '_',\n",
              " '_',\n",
              " '_',\n",
              " '_',\n",
              " '_',\n",
              " '_',\n",
              " '_',\n",
              " '_',\n",
              " '_',\n",
              " '_',\n",
              " '_',\n",
              " '_',\n",
              " '_',\n",
              " '_',\n",
              " '_',\n",
              " '_',\n",
              " '_',\n",
              " '_',\n",
              " '_',\n",
              " '_',\n",
              " '_',\n",
              " '_',\n",
              " '_',\n",
              " '_',\n",
              " '_',\n",
              " '_',\n",
              " '_',\n",
              " '_',\n",
              " '_',\n",
              " '_',\n",
              " '_',\n",
              " '_',\n",
              " '_',\n",
              " '_',\n",
              " '_',\n",
              " '_',\n",
              " '_',\n",
              " '_',\n",
              " '_']"
            ]
          },
          "metadata": {
            "tags": []
          },
          "execution_count": 72
        }
      ]
    },
    {
      "cell_type": "code",
      "metadata": {
        "id": "wKvCVNpPe9cX"
      },
      "source": [
        "dt['text']=dt['text'].apply(''.join)"
      ],
      "execution_count": 73,
      "outputs": []
    },
    {
      "cell_type": "code",
      "metadata": {
        "colab": {
          "base_uri": "https://localhost:8080/",
          "height": 204
        },
        "id": "p1CqZVVse9cX",
        "outputId": "d7cb1b3a-134b-44f7-9eee-04fb6a5d5231"
      },
      "source": [
        "dt.head()"
      ],
      "execution_count": 74,
      "outputs": [
        {
          "output_type": "execute_result",
          "data": {
            "text/html": [
              "<div>\n",
              "<style scoped>\n",
              "    .dataframe tbody tr th:only-of-type {\n",
              "        vertical-align: middle;\n",
              "    }\n",
              "\n",
              "    .dataframe tbody tr th {\n",
              "        vertical-align: top;\n",
              "    }\n",
              "\n",
              "    .dataframe thead th {\n",
              "        text-align: right;\n",
              "    }\n",
              "</style>\n",
              "<table border=\"1\" class=\"dataframe\">\n",
              "  <thead>\n",
              "    <tr style=\"text-align: right;\">\n",
              "      <th></th>\n",
              "      <th>text</th>\n",
              "      <th>spam</th>\n",
              "    </tr>\n",
              "  </thead>\n",
              "  <tbody>\n",
              "    <tr>\n",
              "      <th>0</th>\n",
              "      <td>Subject:naturallyirresistiblecorporateidentity...</td>\n",
              "      <td>1</td>\n",
              "    </tr>\n",
              "    <tr>\n",
              "      <th>1</th>\n",
              "      <td>Subject:stocktradinggunslingerfannymerrillmuzo...</td>\n",
              "      <td>1</td>\n",
              "    </tr>\n",
              "    <tr>\n",
              "      <th>2</th>\n",
              "      <td>Subject:unbelievablenewhomesmadeeasyimwantings...</td>\n",
              "      <td>1</td>\n",
              "    </tr>\n",
              "    <tr>\n",
              "      <th>3</th>\n",
              "      <td>Subject:4colorprintingspecialrequestadditional...</td>\n",
              "      <td>1</td>\n",
              "    </tr>\n",
              "    <tr>\n",
              "      <th>4</th>\n",
              "      <td>Subject:money,getsoftwarecds!softwarecompatibi...</td>\n",
              "      <td>1</td>\n",
              "    </tr>\n",
              "  </tbody>\n",
              "</table>\n",
              "</div>"
            ],
            "text/plain": [
              "                                                text spam\n",
              "0  Subject:naturallyirresistiblecorporateidentity...    1\n",
              "1  Subject:stocktradinggunslingerfannymerrillmuzo...    1\n",
              "2  Subject:unbelievablenewhomesmadeeasyimwantings...    1\n",
              "3  Subject:4colorprintingspecialrequestadditional...    1\n",
              "4  Subject:money,getsoftwarecds!softwarecompatibi...    1"
            ]
          },
          "metadata": {
            "tags": []
          },
          "execution_count": 74
        }
      ]
    },
    {
      "cell_type": "markdown",
      "metadata": {
        "id": "oWzqrd6he9cX"
      },
      "source": [
        "# transform text data into TDF/TF-IDF vextor"
      ]
    },
    {
      "cell_type": "code",
      "metadata": {
        "id": "54tsRTGRe9cX"
      },
      "source": [
        "from sklearn.feature_extraction.text import TfidfVectorizer\n",
        "tfidf=TfidfVectorizer()\n",
        "y=dt.spam.values\n",
        "x=tfidf.fit_transform(dt['text'])"
      ],
      "execution_count": 75,
      "outputs": []
    },
    {
      "cell_type": "code",
      "metadata": {
        "id": "mZ92elqMe9cY"
      },
      "source": [
        "from sklearn.model_selection import train_test_split\n",
        "x_train,x_test,y_train,y_test=train_test_split(x,y,random_state=1,test_size=0.2,shuffle=False)"
      ],
      "execution_count": 76,
      "outputs": []
    },
    {
      "cell_type": "markdown",
      "metadata": {
        "id": "etLWaI7ee9cY"
      },
      "source": [
        "# classification using logistic regression "
      ]
    },
    {
      "cell_type": "code",
      "metadata": {
        "colab": {
          "base_uri": "https://localhost:8080/"
        },
        "id": "ixj29YdOe9cY",
        "outputId": "0a0f9256-be33-457d-d45f-82c3dcc9b573"
      },
      "source": [
        "from sklearn.linear_model import LogisticRegression\n",
        "clf=LogisticRegression()\n",
        "clf.fit(x_train,y_train)"
      ],
      "execution_count": 77,
      "outputs": [
        {
          "output_type": "execute_result",
          "data": {
            "text/plain": [
              "LogisticRegression(C=1.0, class_weight=None, dual=False, fit_intercept=True,\n",
              "                   intercept_scaling=1, l1_ratio=None, max_iter=100,\n",
              "                   multi_class='auto', n_jobs=None, penalty='l2',\n",
              "                   random_state=None, solver='lbfgs', tol=0.0001, verbose=0,\n",
              "                   warm_start=False)"
            ]
          },
          "metadata": {
            "tags": []
          },
          "execution_count": 77
        }
      ]
    },
    {
      "cell_type": "code",
      "metadata": {
        "colab": {
          "base_uri": "https://localhost:8080/"
        },
        "id": "NAw7fe_DhXW9",
        "outputId": "80f1e4ef-6268-432c-a358-9917ae866038"
      },
      "source": [
        "y_pred=clf.predict(x_test)\n",
        "from sklearn.metrics import accuracy_score\n",
        "acc_log=accuracy_score(y_pred,y_test)*100\n",
        "print('accuracy',acc_log)"
      ],
      "execution_count": 78,
      "outputs": [
        {
          "output_type": "stream",
          "text": [
            "accuracy 99.56369982547993\n"
          ],
          "name": "stdout"
        }
      ]
    },
    {
      "cell_type": "markdown",
      "metadata": {
        "id": "fZbm9dw_e9cY"
      },
      "source": [
        "\n",
        "# classification using linearSvC Accuracy"
      ]
    },
    {
      "cell_type": "code",
      "metadata": {
        "colab": {
          "base_uri": "https://localhost:8080/"
        },
        "id": "z46DMS6te9cZ",
        "outputId": "85dced3d-29cd-4cfc-829d-5608f198f613"
      },
      "source": [
        "from sklearn.svm import LinearSVC\n",
        "linear_svc=LinearSVC(random_state=0)\n",
        "linear_svc.fit(x_train,y_train)"
      ],
      "execution_count": 79,
      "outputs": [
        {
          "output_type": "execute_result",
          "data": {
            "text/plain": [
              "LinearSVC(C=1.0, class_weight=None, dual=True, fit_intercept=True,\n",
              "          intercept_scaling=1, loss='squared_hinge', max_iter=1000,\n",
              "          multi_class='ovr', penalty='l2', random_state=0, tol=0.0001,\n",
              "          verbose=0)"
            ]
          },
          "metadata": {
            "tags": []
          },
          "execution_count": 79
        }
      ]
    },
    {
      "cell_type": "code",
      "metadata": {
        "colab": {
          "base_uri": "https://localhost:8080/"
        },
        "id": "2-zLJXPSh3pX",
        "outputId": "c412fe33-d4fb-49b9-b463-0b0c387a1254"
      },
      "source": [
        "y_pred=linear_svc.predict(x_test)\n",
        "from sklearn.metrics import accuracy_score\n",
        "acc_linear_svc=accuracy_score(y_pred,y_test)*100\n",
        "print('accuracy:',acc_linear_svc)"
      ],
      "execution_count": 80,
      "outputs": [
        {
          "output_type": "stream",
          "text": [
            "accuracy: 99.04013961605584\n"
          ],
          "name": "stdout"
        }
      ]
    },
    {
      "cell_type": "code",
      "metadata": {
        "id": "tDa-Qlvme9cZ"
      },
      "source": [
        ""
      ],
      "execution_count": 80,
      "outputs": []
    },
    {
      "cell_type": "code",
      "metadata": {
        "id": "xrV9vPuQe9cZ"
      },
      "source": [
        ""
      ],
      "execution_count": 80,
      "outputs": []
    },
    {
      "cell_type": "code",
      "metadata": {
        "id": "CZGDyY3Ye9cZ"
      },
      "source": [
        ""
      ],
      "execution_count": 80,
      "outputs": []
    },
    {
      "cell_type": "code",
      "metadata": {
        "id": "qJ3mzJ5ue9ca"
      },
      "source": [
        ""
      ],
      "execution_count": 80,
      "outputs": []
    },
    {
      "cell_type": "code",
      "metadata": {
        "id": "aiQh_4WAe9ca"
      },
      "source": [
        ""
      ],
      "execution_count": 80,
      "outputs": []
    },
    {
      "cell_type": "code",
      "metadata": {
        "id": "c0Ndq6BVe9ca"
      },
      "source": [
        ""
      ],
      "execution_count": 80,
      "outputs": []
    }
  ]
}